{
 "cells": [
  {
   "cell_type": "markdown",
   "metadata": {},
   "source": [
    "### Week 5 Problem Set\n",
    "\n",
    "In this problem set you will work with the dataset from Markov et al. shared by [Henry Kennedy's lab](http://core-nets.org/).\n",
    "\n",
    "First let's load up the data that we worked with in the Week 5 notebook, using a utility function that encapsulates much of the code from that notebook.  We will only use the data from the 29 target regions, since otherwise some of our analyses would be biased since it's not possible to find connections into a region that wasn't included as a target.\n"
   ]
  },
  {
   "cell_type": "code",
   "execution_count": 3,
   "metadata": {},
   "outputs": [],
   "source": [
    "import os,sys\n",
    "import numpy,pandas\n",
    "import networkx as nx\n",
    "\n",
    "%matplotlib inline\n",
    "\n",
    "sys.path.append('../utils')\n",
    "from corenets import get_tract_graph\n",
    "from utils import nx_to_igraph\n",
    "\n",
    "# load the data with a very low threshold to remove sparse connections\n",
    "# only use the target regions since otherwise analyses will be biased\n",
    "G,adjacency_mtx=get_tract_graph(FLNe_threshold=10e-4,limit_to_target=True)\n"
   ]
  },
  {
   "cell_type": "markdown",
   "metadata": {},
   "source": [
    "#### Problem 1\n",
    "\n",
    "What proportion of possible single-step connections are present?  Treat a connection in either direction as positive evidence."
   ]
  },
  {
   "cell_type": "code",
   "execution_count": 40,
   "metadata": {},
   "outputs": [
    {
     "name": "stdout",
     "output_type": "stream",
     "text": [
      "proportion of single-step connections present: 0.7931034482758621\n"
     ]
    }
   ],
   "source": [
    "# INSERT SOLUTION HERE\n",
    "\n",
    "print('proportion of single-step connections present:',prop_connected_1step)"
   ]
  },
  {
   "cell_type": "markdown",
   "metadata": {},
   "source": [
    "#### Problem 2\n",
    "\n",
    "a. What proportion of regions are connected by a directed path (regardless of the number of steps or the direction)? "
   ]
  },
  {
   "cell_type": "code",
   "execution_count": 41,
   "metadata": {},
   "outputs": [
    {
     "name": "stdout",
     "output_type": "stream",
     "text": [
      "proportion of single-step connections present: 1.0\n"
     ]
    }
   ],
   "source": [
    "# INSERT SOLUTION HERE\n",
    "\n",
    "print('proportion of single-step connections present:',prop_connected_direct)"
   ]
  },
  {
   "cell_type": "markdown",
   "metadata": {},
   "source": [
    "b. What is the mean path length for those direct connections?"
   ]
  },
  {
   "cell_type": "code",
   "execution_count": 42,
   "metadata": {},
   "outputs": [
    {
     "name": "stdout",
     "output_type": "stream",
     "text": [
      "mean path length: 2.850985221674877\n"
     ]
    }
   ],
   "source": [
    "# INSERT SOLUTION HERE\n",
    "\n",
    "print('mean path length:',mean_direct_path_length)"
   ]
  },
  {
   "cell_type": "markdown",
   "metadata": {},
   "source": [
    "#### Problem 3\n",
    "\n",
    "For regions that are connected by a single-step connection, what proportion of those regions have a bidirectional connection?  "
   ]
  },
  {
   "cell_type": "code",
   "execution_count": 46,
   "metadata": {},
   "outputs": [
    {
     "name": "stdout",
     "output_type": "stream",
     "text": [
      "Proportion of bidirectional single-step edges: 0.6641221374045801\n"
     ]
    }
   ],
   "source": [
    "# INSERT SOLUTION HERE\n",
    "\n",
    "print('Proportion of bidirectional single-step edges:',p_bidirectional)"
   ]
  },
  {
   "cell_type": "code",
   "execution_count": null,
   "metadata": {},
   "outputs": [],
   "source": []
  }
 ],
 "metadata": {
  "kernelspec": {
   "display_name": "Python 3",
   "language": "python",
   "name": "python3"
  },
  "language_info": {
   "codemirror_mode": {
    "name": "ipython",
    "version": 3
   },
   "file_extension": ".py",
   "mimetype": "text/x-python",
   "name": "python",
   "nbconvert_exporter": "python",
   "pygments_lexer": "ipython3",
   "version": "3.6.3"
  }
 },
 "nbformat": 4,
 "nbformat_minor": 2
}
